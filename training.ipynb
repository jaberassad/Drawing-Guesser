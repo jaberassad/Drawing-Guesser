{
 "cells": [
  {
   "cell_type": "code",
   "execution_count": null,
   "metadata": {},
   "outputs": [],
   "source": [
    "import numpy as np\n",
    "import tensorflow as tf\n",
    "from PIL import Image\n",
    "import pandas as pd\n",
    "import os"
   ]
  },
  {
   "cell_type": "code",
   "execution_count": null,
   "metadata": {},
   "outputs": [],
   "source": [
    "category = {}\n",
    "data = []\n",
    "\n",
    "with os.scandir(\"./data\") as files:\n",
    "    for file in files:\n",
    "        # Only process .npy files\n",
    "        if file.name.endswith('.npy'):\n",
    "            try:\n",
    "                category[file.path[25:-4]] = category.get(file.path[25:-4], len(category))\n",
    "\n",
    "                # Load the numpy array with allow_pickle=True\n",
    "                np_data = np.load(file.path, allow_pickle=True)\n",
    "                img_num=0\n",
    "                for i in np_data:\n",
    "                    #only put the first 40000 arrays since there are too many\n",
    "                    if img_num==40000: break\n",
    "                    img_num+=1\n",
    "                    #dividing by 255 to normalise the pixels\n",
    "                    data.append({\"Image\": i / 255, \"Name\": category[file.path[25:-4]]})\n",
    "\n",
    "            except EOFError:\n",
    "                print(f\"EOFError: Could not read {file.path}, skipping...\")\n",
    "            except Exception as e:\n",
    "                print(f\"Error loading {file.path}: {e}, skipping...\")\n",
    "\n",
    "\n",
    "#Organising the data in a dataframe using the pandas library\n",
    "df = pd.DataFrame(data, columns=[\"Image\", \"Name\"]).sample(frac=1).reset_index(drop=True)\n",
    "\n",
    "names = reversed_dict = {value: key for key, value in category.items()}\n"
   ]
  },
  {
   "cell_type": "code",
   "execution_count": null,
   "metadata": {},
   "outputs": [],
   "source": [
    "# Prepare training data\n",
    "x_train = np.array([np.reshape(img, (784,)) for img in df[\"Image\"]])\n",
    "y_train = tf.keras.utils.to_categorical(df[\"Name\"], num_classes=len(category))\n",
    "\n",
    "# Define the model\n",
    "model = tf.keras.Sequential([\n",
    "    tf.keras.layers.Dense(300, input_shape=(784,), activation=\"relu\"),\n",
    "    tf.keras.layers.Dense(60, activation=\"relu\"),\n",
    "    tf.keras.layers.Dense(50, activation=\"relu\"),\n",
    "    tf.keras.layers.Dense(40, activation=\"relu\"),\n",
    "    tf.keras.layers.Dense(len(category), activation=\"softmax\")\n",
    "])\n",
    "\n",
    "# Compile the model\n",
    "model.compile(optimizer=\"adam\", loss=\"categorical_crossentropy\", metrics=[\"accuracy\"])\n",
    "\n",
    "# Train the model\n",
    "model.fit(x_train, y_train, epochs=10, batch_size=32, validation_split=0.2)\n"
   ]
  },
  {
   "cell_type": "code",
   "execution_count": 11,
   "metadata": {},
   "outputs": [],
   "source": [
    "#saving the model\n",
    "model.save(\"./model.keras\")"
   ]
  }
 ],
 "metadata": {
  "kernelspec": {
   "display_name": "Python 3",
   "language": "python",
   "name": "python3"
  },
  "language_info": {
   "codemirror_mode": {
    "name": "ipython",
    "version": 3
   },
   "file_extension": ".py",
   "mimetype": "text/x-python",
   "name": "python",
   "nbconvert_exporter": "python",
   "pygments_lexer": "ipython3",
   "version": "3.11.6"
  }
 },
 "nbformat": 4,
 "nbformat_minor": 2
}
